{
 "cells": [
  {
   "cell_type": "code",
   "execution_count": null,
   "id": "16a72906",
   "metadata": {},
   "outputs": [],
   "source": [
    "\n",
    "# Task 3: Natural Language Processing with spaCy\n",
    "# Authors: Nwokike Onyeka, Obinwa Ogechi Perpetual, Stephen Ayankoso\n",
    "\n",
    "import spacy\n",
    "\n",
    "# Load English language model\n",
    "nlp = spacy.load(\"en_core_web_sm\")\n",
    "\n",
    "# Sample text\n",
    "text = \"Apple was founded by Steve Jobs in California and it is now one of the biggest tech companies in the world.\"\n",
    "\n",
    "# Process text\n",
    "doc = nlp(text)\n",
    "\n",
    "# Print named entities (NER)\n",
    "print(\"Named Entities, Phrases, and Concepts:\")\n",
    "for entity in doc.ents:\n",
    "    print(f\"{entity.text} ({entity.label_})\")\n",
    "\n",
    "# Print nouns and verbs\n",
    "print(\"\\nNouns and Verbs:\")\n",
    "for token in doc:\n",
    "    if token.pos_ in [\"NOUN\", \"VERB\"]:\n",
    "        print(f\"{token.text} ({token.pos_})\")\n",
    "\n",
    "# Sentiment or keyword insights could be added here in future versions\n",
    "print(\"\\nTask Complete: NLP processing done using spaCy.\")\n",
    "\n",
    "from collections import Counter\n",
    "keywords = [token.text for token in doc if token.is_alpha and not token.is_stop]\n",
    "print(\"Top 5 Keywords:\", Counter(keywords).most_common(5))\n",
    "\n"
   ]
  }
 ],
 "metadata": {
  "language_info": {
   "name": "python"
  }
 },
 "nbformat": 4,
 "nbformat_minor": 5
}
